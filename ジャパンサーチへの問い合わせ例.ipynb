{
  "nbformat": 4,
  "nbformat_minor": 0,
  "metadata": {
    "colab": {
      "name": "ジャパンサーチへの問い合わせ例.ipynb",
      "private_outputs": true,
      "provenance": [],
      "authorship_tag": "ABX9TyMSxZWC2RQ1z7+63XyXAUCP",
      "include_colab_link": true
    },
    "kernelspec": {
      "name": "python3",
      "display_name": "Python 3"
    },
    "language_info": {
      "name": "python"
    }
  },
  "cells": [
    {
      "cell_type": "markdown",
      "metadata": {
        "id": "view-in-github",
        "colab_type": "text"
      },
      "source": [
        "<a href=\"https://colab.research.google.com/github/nakamura196/morota/blob/main/%E3%82%B8%E3%83%A3%E3%83%91%E3%83%B3%E3%82%B5%E3%83%BC%E3%83%81%E3%81%B8%E3%81%AE%E5%95%8F%E3%81%84%E5%90%88%E3%82%8F%E3%81%9B%E4%BE%8B.ipynb\" target=\"_parent\"><img src=\"https://colab.research.google.com/assets/colab-badge.svg\" alt=\"Open In Colab\"/></a>"
      ]
    },
    {
      "cell_type": "code",
      "execution_count": null,
      "metadata": {
        "id": "STqzm7mjP0Wu"
      },
      "outputs": [],
      "source": [
        "!pip install SPARQLWrapper\n",
        "\n",
        "from SPARQLWrapper import SPARQLWrapper\n",
        "import requests\n",
        "import urllib\n",
        "import json\n",
        "import pprint\n",
        "\n",
        "endpoint = \"https://jpsearch.go.jp/rdf/sparql/\"\n",
        "\n",
        "sparql = SPARQLWrapper(endpoint=endpoint, returnFormat='json')"
      ]
    },
    {
      "cell_type": "markdown",
      "source": [
        "# クラスが出版物のアイテムを取得する"
      ],
      "metadata": {
        "id": "JOvz_mKWSEUS"
      }
    },
    {
      "cell_type": "code",
      "source": [
        "q = \"\"\"\n",
        "PREFIX rdfs: <http://www.w3.org/2000/01/rdf-schema#>\n",
        "PREFIX type: <https://jpsearch.go.jp/term/type/>\n",
        "SELECT distinct ?cho ?label WHERE {\n",
        "    ?cho rdfs:label ?label . \n",
        "    ?cho rdf:type type:出版物 . \n",
        "    # ?cho a type:出版物 . \n",
        "\n",
        "    # または\n",
        "\n",
        "    # ?cho rdfs:label ?label; a type:出版物 . \n",
        "}\n",
        "LIMIT 10\n",
        "\"\"\"\n",
        "\n",
        "sparql.setQuery(q)\n",
        "url = \"{}?query={}&format=json&output=json&results=json\".format(endpoint, urllib.parse.quote(q))\n",
        "r = requests.get(url)\n",
        "results = json.loads(r.text)\n",
        "for obj in results[\"results\"][\"bindings\"]:\n",
        "  # pprint.pprint(obj)\n",
        "  cho = obj[\"cho\"][\"value\"]\n",
        "  label = obj[\"label\"][\"value\"]\n",
        "  print(cho, \"\\t\", label)"
      ],
      "metadata": {
        "id": "1DkbFpVrSDlK"
      },
      "execution_count": null,
      "outputs": []
    }
  ]
}